{
  "nbformat": 4,
  "nbformat_minor": 0,
  "metadata": {
    "accelerator": "GPU",
    "colab": {
      "name": "Boolean Networks GPU",
      "provenance": [],
      "collapsed_sections": [],
      "toc_visible": true,
      "authorship_tag": "ABX9TyPAtapmhR+w1OYUDbOJv7a0",
      "include_colab_link": true
    },
    "kernelspec": {
      "display_name": "Python 3",
      "name": "python3"
    }
  },
  "cells": [
    {
      "cell_type": "markdown",
      "metadata": {
        "id": "view-in-github",
        "colab_type": "text"
      },
      "source": [
        "<a href=\"https://colab.research.google.com/github/lucas-t-reis/research/blob/master/boolean-networks/Boolean_Networks_GPU.ipynb\" target=\"_parent\"><img src=\"https://colab.research.google.com/assets/colab-badge.svg\" alt=\"Open In Colab\"/></a>"
      ]
    },
    {
      "cell_type": "markdown",
      "metadata": {
        "id": "f_xWzNL3Tpe6"
      },
      "source": [
        "# Simulação de Redes Booleanas\n",
        "\n",
        "O presente *notebook* tem como objetivo explorar a simulação síncrona de redes booleanas, que são modeladas com base em sistemas biológicos e frequentemente servem de base para experimentos *in silico* que visam entender a dinâmica da interação entre genes, moléculas ou outros componentes que façam parte de sistemas biológicos. \n",
        "\n",
        "Sabendo que simular $N$ possíveis estados é uma tarefa de complexidade exponencial, visto que temos $2^{N}$ possíveis estados, faz-se necessário utilizar estratégias diminuam tempo de execução de execução. Como o principal objetivo das simulações é obter um conjunto de probabilidades associada a cada agente biológico estudado e a exploração dos estados da rede é independente de outros estados que não o anterior, este problema se torna candidato a otimização utilizando computação paralela."
      ]
    },
    {
      "cell_type": "markdown",
      "metadata": {
        "id": "CYgLQflo-MX7"
      },
      "source": [
        "# Dependencies\n",
        "\n",
        "Plugins necessários para execução de código em CUDA com a *cell magic* `%%gpu`"
      ]
    },
    {
      "cell_type": "code",
      "metadata": {
        "colab": {
          "base_uri": "https://localhost:8080/"
        },
        "id": "P5aHy4BNZ2RR",
        "outputId": "388a9aa0-5d9c-43f7-c5dc-ff87a6fb636a"
      },
      "source": [
        "!pip install git+git://github.com/canesche/nvcc4jupyter.git\n",
        "!git clone https://github.com/canesche/nvcc4jupyter\n",
        "%load_ext nvcc_plugin"
      ],
      "execution_count": null,
      "outputs": [
        {
          "output_type": "stream",
          "text": [
            "Collecting git+git://github.com/canesche/nvcc4jupyter.git\n",
            "  Cloning git://github.com/canesche/nvcc4jupyter.git to /tmp/pip-req-build-wxdrcx1v\n",
            "  Running command git clone -q git://github.com/canesche/nvcc4jupyter.git /tmp/pip-req-build-wxdrcx1v\n",
            "Requirement already satisfied (use --upgrade to upgrade): ColabPlugin===blind from git+git://github.com/canesche/nvcc4jupyter.git in /usr/local/lib/python3.6/dist-packages\n",
            "Building wheels for collected packages: ColabPlugin\n",
            "  Building wheel for ColabPlugin (setup.py) ... \u001b[?25l\u001b[?25hdone\n",
            "  Created wheel for ColabPlugin: filename=ColabPlugin-blind-cp36-none-any.whl size=12717 sha256=a4fb316191c268b022732ba3ada05fe7d4a950c956c0d53ae77aac12470ecf34\n",
            "  Stored in directory: /tmp/pip-ephem-wheel-cache-d1iow45r/wheels/87/ae/09/21c6e192181a0472e20ddd1d5212e2cbb113f00ebe14330d0d\n",
            "Successfully built ColabPlugin\n",
            "fatal: destination path 'nvcc4jupyter' already exists and is not an empty directory.\n",
            "The nvcc_plugin extension is already loaded. To reload it, use:\n",
            "  %reload_ext nvcc_plugin\n"
          ],
          "name": "stdout"
        }
      ]
    },
    {
      "cell_type": "markdown",
      "metadata": {
        "id": "SGuG03xQVl6i"
      },
      "source": [
        "GPU utilizada nos experimentos"
      ]
    },
    {
      "cell_type": "code",
      "metadata": {
        "colab": {
          "base_uri": "https://localhost:8080/"
        },
        "id": "hvozSy1EB8Td",
        "outputId": "5a1e7734-14a7-40ca-83a6-0e172beead03"
      },
      "source": [
        "!nvidia-smi"
      ],
      "execution_count": null,
      "outputs": [
        {
          "output_type": "stream",
          "text": [
            "Thu Feb 11 19:22:41 2021       \n",
            "+-----------------------------------------------------------------------------+\n",
            "| NVIDIA-SMI 460.39       Driver Version: 460.32.03    CUDA Version: 11.2     |\n",
            "|-------------------------------+----------------------+----------------------+\n",
            "| GPU  Name        Persistence-M| Bus-Id        Disp.A | Volatile Uncorr. ECC |\n",
            "| Fan  Temp  Perf  Pwr:Usage/Cap|         Memory-Usage | GPU-Util  Compute M. |\n",
            "|                               |                      |               MIG M. |\n",
            "|===============================+======================+======================|\n",
            "|   0  Tesla P100-PCIE...  Off  | 00000000:00:04.0 Off |                    0 |\n",
            "| N/A   36C    P0    26W / 250W |      0MiB / 16280MiB |      0%      Default |\n",
            "|                               |                      |                  N/A |\n",
            "+-------------------------------+----------------------+----------------------+\n",
            "                                                                               \n",
            "+-----------------------------------------------------------------------------+\n",
            "| Processes:                                                                  |\n",
            "|  GPU   GI   CI        PID   Type   Process name                  GPU Memory |\n",
            "|        ID   ID                                                   Usage      |\n",
            "|=============================================================================|\n",
            "|  No running processes found                                                 |\n",
            "+-----------------------------------------------------------------------------+\n"
          ],
          "name": "stdout"
        }
      ]
    },
    {
      "cell_type": "markdown",
      "metadata": {
        "id": "DfBN3nScVw6X"
      },
      "source": [
        "Neste arquivo de cabeçalho, se encontram:\n",
        "\n",
        "- Macro de verificação de erros para GPU;\n",
        "- Encapsulamento da implementação de um Cronômetro para CPU e para GPU;\n",
        "- Função auxiliar para imprimir os tempos de cada execução em um arquivo `.csv`;\n",
        "- Função auxiliar para imprimir o histograma obtido após as simulações;"
      ]
    },
    {
      "cell_type": "code",
      "metadata": {
        "colab": {
          "base_uri": "https://localhost:8080/"
        },
        "id": "-AAwzULc6xnW",
        "outputId": "8fef129c-a0dd-4291-f67e-60ae52d2c3ed"
      },
      "source": [
        "%%writefile profiler.h\n",
        "#ifndef PROFILER_H\n",
        "#define PROFILER_H\n",
        "\n",
        "#include<chrono>\n",
        "#include<fstream>\n",
        "\n",
        "#define MAX_POWER10 10\n",
        "\n",
        "//Macro for checking cuda errors following a cuda launch or api call\n",
        "#define cudaCheckError() {                                                      \\\n",
        " cudaError_t e=cudaGetLastError();                                              \\\n",
        " if(e!=cudaSuccess) {                                                           \\\n",
        "   printf(\"Cuda failure %s:%d: '%s'\\n\",__FILE__,__LINE__,cudaGetErrorString(e));\\\n",
        "   exit(0);                                                                     \\\n",
        " }                                                                              \\\n",
        "}\n",
        "\n",
        "class CPU_Stopwatch {\n",
        "    \n",
        "    typedef std::chrono::steady_clock clock;\n",
        "    \n",
        "    private:\n",
        "      std::chrono::time_point<clock> start;\n",
        "\n",
        "    public:\n",
        "      void reset() { start = clock::now(); }\n",
        "      CPU_Stopwatch() { reset(); }\n",
        "      auto stop() { \n",
        "          std::chrono::duration<float> elapsed_time = clock::now() - start;\n",
        "          return elapsed_time.count() * 1000;\n",
        "      }\n",
        "};\n",
        "\n",
        "class GPU_Stopwatch {\n",
        "    \n",
        "    private:\n",
        "      cudaEvent_t start;\n",
        "      cudaEvent_t end;\n",
        "\n",
        "    public:\n",
        "      GPU_Stopwatch() {\n",
        "          \n",
        "          cudaEventCreate(&start);\n",
        "          cudaEventCreate(&end);\n",
        "          \n",
        "          cudaEventRecord(start);\n",
        "      }\n",
        "      float stop() {\n",
        "\n",
        "          cudaEventRecord(end);\n",
        "\n",
        "          cudaEventSynchronize(end);\n",
        "          float milliseconds = -1;\n",
        "          cudaEventElapsedTime(&milliseconds, start, end);\n",
        "\n",
        "          return milliseconds;\n",
        "\n",
        "      }\n",
        "    \n",
        "};\n",
        "\n",
        "void write_csv(const char * fileName, float profiling_times[], size_t n) {\n",
        "    \n",
        "    std::ofstream csv(fileName, std::ofstream::out);\n",
        "    for(int i=0; i<n; i++) {\n",
        "      if(i==n-1)\n",
        "        csv << profiling_times[i] << \"\\n\";\n",
        "      else\n",
        "        csv << profiling_times[i] << \",\";    \n",
        "    }    \n",
        "}\n",
        "\n",
        "void print_histogram(int *histogram, size_t n) {\n",
        "    printf(\"Histogram [\");\n",
        "    for(int i=0; i<n; i++) {\n",
        "        if(i==n-1) printf(\"%d]\", histogram[i]);\n",
        "        else printf(\"%d,\", histogram[i]);\n",
        "    }\n",
        "}\n",
        "\n",
        "#endif"
      ],
      "execution_count": null,
      "outputs": [
        {
          "output_type": "stream",
          "text": [
            "Overwriting profiler.h\n"
          ],
          "name": "stdout"
        }
      ]
    },
    {
      "cell_type": "markdown",
      "metadata": {
        "id": "nCEWmiQocCNv"
      },
      "source": [
        "# Node activation estimation based on Simulation"
      ]
    },
    {
      "cell_type": "markdown",
      "metadata": {
        "id": "BJtyv2LOpUIR"
      },
      "source": [
        "## CPU\n",
        "Baseline para comparação do tempo de execução em GPU. \n",
        "\n",
        "- network.h - Equações booleanas, função de inicialização do estado dos nós e array da rede, bem como o *define* com o tamanho da mesma. Este arquivo deve ser gerado para cada rede, contendo suas respectivas equações convertidas para um formato aceito em C/C++.\n",
        "\n",
        "- source - Código com implementação usando pointeiros para função. A cada passo o histograma e o estado da rede é atualizado dentro do *loop* principal."
      ]
    },
    {
      "cell_type": "code",
      "metadata": {
        "colab": {
          "base_uri": "https://localhost:8080/"
        },
        "id": "mSUP_fIGpogR",
        "outputId": "cd89f90b-fbdc-48dd-ef18-d95fc320cf26"
      },
      "source": [
        "%%writefile network_cpu.h\n",
        "\n",
        "#ifndef NETWORK_CPU_H\n",
        "#define NETWORK_CPU_H\n",
        "\n",
        "#define N 10\n",
        "bool network_state[N];\n",
        "\n",
        "// ---------- BOOLEAN NETWORK FUNCTIONS ---------- //\n",
        "bool Cdc25(){ return  !network_state[3] && network_state[1] ||  !network_state[3] && network_state[0] || network_state[1] && network_state[0]; }\n",
        "bool Cdc2_Cdc13(){ return  !network_state[7] &&  !network_state[6] &&  !network_state[4]; }\n",
        "bool Cdc2_Cdc13_A(){ return  !network_state[8] &&  !network_state[7] &&  !network_state[6] &&  !network_state[4] && network_state[0]; }\n",
        "bool PP(){ return network_state[6]; }\n",
        "bool Rum1(){ return  !network_state[5] && network_state[4] && network_state[3] &&  !network_state[2] ||  !network_state[5] && network_state[4] && network_state[3] &&  !network_state[1] ||  !network_state[5] && network_state[4] &&  !network_state[2] &&  !network_state[1] ||  !network_state[5] && network_state[3] &&  !network_state[2] &&  !network_state[1] || network_state[4] && network_state[3] &&  !network_state[2] &&  !network_state[1]; }\n",
        "bool SK(){ return network_state[9]; }\n",
        "bool Slp1(){ return network_state[2]; }\n",
        "bool Ste9(){ return network_state[7] &&  !network_state[5] && network_state[3] &&  !network_state[2] || network_state[7] &&  !network_state[5] && network_state[3] &&  !network_state[1] || network_state[7] &&  !network_state[5] &&  !network_state[2] &&  !network_state[1] || network_state[7] && network_state[3] &&  !network_state[2] &&  !network_state[1] ||  !network_state[5] && network_state[3] &&  !network_state[2] &&  !network_state[1]; }\n",
        "bool Wee1_Mik1(){ return network_state[8] && network_state[3] || network_state[8] &&  !network_state[1] || network_state[3] &&  !network_state[1]; }\n",
        "bool Start(){ return true; }\n",
        "\n",
        "char names[N][26] = {\"Cdc25\",\"Cdc2_Cdc13\",\"Cdc2_Cdc13_A\",\"PP\",\"Rum1\",\"SK\",\"Slp1\",\"Ste9\",\"Wee1_Mik1\",\"Start\"};\n",
        "bool (*node_function[10])();\n",
        "\n",
        "void initializeFunctions() {\n",
        "\tnode_function[0] = Cdc25;\n",
        "\tnode_function[1] = Cdc2_Cdc13;\n",
        "\tnode_function[2] = Cdc2_Cdc13_A;\n",
        "\tnode_function[3] = PP;\n",
        "\tnode_function[4] = Rum1;\n",
        "\tnode_function[5] = SK;\n",
        "\tnode_function[6] = Slp1;\n",
        "\tnode_function[7] = Ste9;\n",
        "\tnode_function[8] = Wee1_Mik1;\n",
        "\tnode_function[9] = Start;\n",
        "}\n",
        "\n",
        "// Nodes with fixed state\n",
        "void initializeNodes() {\n",
        "\n",
        "    network_state[9] = true;\n",
        "\n",
        "}\n",
        "#endif"
      ],
      "execution_count": null,
      "outputs": [
        {
          "output_type": "stream",
          "text": [
            "Overwriting network_cpu.h\n"
          ],
          "name": "stdout"
        }
      ]
    },
    {
      "cell_type": "code",
      "metadata": {
        "colab": {
          "base_uri": "https://localhost:8080/"
        },
        "id": "q5f05QGJpWdG",
        "outputId": "77d62b83-6351-4824-c564-69ea9a81bd93"
      },
      "source": [
        "%%gpu\n",
        "\n",
        "#include <string.h>\n",
        "#include <stdbool.h>\n",
        "#include <stdio.h>\n",
        "\n",
        "#include \"network_cpu.h\"\n",
        "#include \"profiler.h\"\n",
        "\n",
        "bool next_state[N];\n",
        "int histogram[N];\n",
        "\n",
        "int main() {\n",
        "\t\n",
        "\tsize_t n_bytes = sizeof(bool) * N;\n",
        "    \n",
        "\t\n",
        "\tinitializeFunctions();\n",
        "\tinitializeNodes();\n",
        "\n",
        "    float elapsed_time[MAX_POWER10];\n",
        "    unsigned long long iterations = 10;\n",
        "    for(int t=0; t<MAX_POWER10; t++) {\n",
        "        memset(network_state,\t0, n_bytes);\n",
        "        memset(histogram,\t\t0.0, sizeof(double)*N);\n",
        "        CPU_Stopwatch s;\n",
        "        for(unsigned long long i=0; i<iterations; i++) {\n",
        "    \n",
        "            #pragma unroll\n",
        "            for(int j=0; j<N; j++) { next_state[j] = node_function[j](); }\n",
        "            \n",
        "            // Update the whole network after processing every node\n",
        "            memcpy(network_state, next_state, n_bytes);\n",
        "            \n",
        "            #pragma unroll\n",
        "            for(int j=0; j<N; j++) { histogram[j] += network_state[j]; } \n",
        "    \n",
        "        }\n",
        "\n",
        "        elapsed_time[t] = s.stop();\n",
        "        printf(\"it:%llu\\ttime:%f\\n\", iterations, elapsed_time[t]);\n",
        "        iterations*=10;\n",
        "    }\n",
        "\n",
        "    //print_histogram(histogram, N);\n",
        "    write_csv(\"CPU.csv\", elapsed_time, MAX_POWER10);\n",
        "\n",
        "return 0;\n",
        "\n",
        "}"
      ],
      "execution_count": null,
      "outputs": [
        {
          "output_type": "stream",
          "text": [
            "it:10\ttime:0.001678\n",
            "it:100\ttime:0.005930\n",
            "it:1000\ttime:0.054047\n",
            "it:10000\ttime:0.615304\n",
            "it:100000\ttime:5.463833\n",
            "it:1000000\ttime:54.264389\n",
            "it:10000000\ttime:547.754272\n",
            "it:100000000\ttime:5521.171875\n",
            "it:1000000000\ttime:55196.675781\n",
            "it:10000000000\ttime:550134.562500\n",
            "\n"
          ],
          "name": "stdout"
        }
      ]
    },
    {
      "cell_type": "markdown",
      "metadata": {
        "id": "bCC0nXnRpR8r"
      },
      "source": [
        "## GPU"
      ]
    },
    {
      "cell_type": "markdown",
      "metadata": {
        "id": "wzyY5bkTFBOs"
      },
      "source": [
        "### Naive State Array\n",
        "\n",
        "Implementação que serve de Baseline para as técnicas de otimização em GPU.\n",
        "\n",
        "- Código do **kernel** é gerado para um grafo específico;\n",
        "\n",
        "- Utilização de *array* para representação dos estados e armazenamento do histograma;\n",
        "\n",
        "- Número de iterações dividido entre *threads* utilizadas;\n",
        "\n"
      ]
    },
    {
      "cell_type": "code",
      "metadata": {
        "colab": {
          "base_uri": "https://localhost:8080/"
        },
        "id": "d_6eIXztE5lZ",
        "outputId": "92f1f9b7-11e5-4e0c-b27f-e7dca353f166"
      },
      "source": [
        "%%gpu\n",
        "#include <string.h>\n",
        "#include <stdbool.h>\n",
        "#include <stdio.h>\n",
        "\n",
        "\n",
        "#include \"profiler.h\"\n",
        "\n",
        "#define ITERATIONS 8\n",
        "#define N 10\n",
        "\n",
        "__global__\n",
        "void simulate(int iterations, bool *state, bool *next_state, int *histogram) {\n",
        "\n",
        "    int tId = threadIdx.x + blockDim.x*blockIdx.x;\n",
        "    if(tId >= N) return;\n",
        "\n",
        "    int offset = tId*N;\n",
        "    \n",
        "    // Constants\n",
        "    state[offset+9] = true;\n",
        "    for(int i=0; i<iterations; i++) {\n",
        "        \n",
        "        next_state[offset+0] =  ! state[offset+3] & state[offset+1] |  ! state[offset+3] & state[offset+0] | state[offset+1] & state[offset+0];\n",
        "        next_state[offset+1] =  ! state[offset+7] &  ! state[offset+6] &  ! state[offset+4];\n",
        "        next_state[offset+2] =  ! state[offset+8] &  ! state[offset+7] &  ! state[offset+6] &  ! state[offset+4] & state[offset+0];\n",
        "        next_state[offset+3] = state[offset+6];\n",
        "        next_state[offset+4] =  ! state[offset+5] & state[offset+4] & state[offset+3] &  ! state[offset+2] |  ! state[offset+5] & state[offset+4] & state[offset+3] &  ! state[offset+1] |  ! state[offset+5] & state[offset+4] &  ! state[offset+2] &  ! state[offset+1] |  ! state[offset+5] & state[offset+3] &  ! state[offset+2] &  ! state[offset+1] | state[offset+4] & state[offset+3] &  ! state[offset+2] &  ! state[offset+1];\n",
        "        next_state[offset+5] =  state[offset+9];\n",
        "        next_state[offset+6] = state[offset+2];\n",
        "        next_state[offset+7] = state[offset+7] &  ! state[offset+5] & state[offset+3] &  ! state[offset+2] | state[offset+7] &  ! state[offset+5] & state[offset+3] &  ! state[offset+1] | state[offset+7] &  ! state[offset+5] &  ! state[offset+2] &  ! state[offset+1] | state[offset+7] & state[offset+3] &  ! state[offset+2] &  ! state[offset+1] |  ! state[offset+5] & state[offset+3] &  ! state[offset+2] &  ! state[offset+1];\n",
        "        next_state[offset+8] = state[offset+8] & state[offset+3] | state[offset+8] &  ! state[offset+1] | state[offset+3] &  ! state[offset+1];\n",
        "        next_state[offset+9] = state[offset+9];\n",
        "        \n",
        "        #pragma unroll\n",
        "        for(int j=0; j<N; j++) \n",
        "            state[offset+j] = next_state[offset+j];\n",
        "        \n",
        "        #pragma unroll\n",
        "        for(int j=0; j<N; j++)\n",
        "            histogram[offset+j] += state[offset+j];\n",
        "\n",
        "    }\n",
        "\n",
        "}\n",
        "\n",
        "int main() {\n",
        "\t\n",
        "    // Kernel variables\n",
        "    int threads = 128; \n",
        "    int blocks = (N+threads-1)/threads;\n",
        "\n",
        "    size_t n_bytes = sizeof(bool) * N * threads;\n",
        "    size_t hist_bytes = sizeof(int) * N * threads;\n",
        "   \n",
        "    bool *d_state, *d_next_state;\n",
        "    int *d_histogram;\n",
        "    cudaMalloc((void**) &d_state, n_bytes);\n",
        "    cudaMalloc((void**) &d_next_state, n_bytes);\n",
        "    cudaMalloc((void**) &d_histogram, hist_bytes);\n",
        "    printf(\"blocks%d\\n\", blocks);\n",
        "    float elapsed_time[MAX_POWER10];\n",
        "    unsigned long long iterations = 10;\n",
        "    for(int t=0; t<MAX_POWER10; t++) {\n",
        "        cudaMemset(d_state, 0, n_bytes);\n",
        "        cudaMemset(d_histogram, 0, hist_bytes);\n",
        "\n",
        "        GPU_Stopwatch s;\n",
        "        int split_workload = iterations / (blocks*threads) + 1;\n",
        "        simulate <<< blocks, threads >>> (split_workload, d_state, d_next_state, d_histogram);\n",
        "        elapsed_time[t] = s.stop();\n",
        "        printf(\"it:%llu\\t\\tsplit_wload:%d\\t\\ttime:%f\\n\", iterations, split_workload, elapsed_time[t]);\n",
        "\n",
        "        iterations *= 10;\n",
        "    }\n",
        "\n",
        "    cudaDeviceSynchronize();\n",
        "    write_csv(\"GPU_naive.csv\", elapsed_time, MAX_POWER10);\n",
        "\n",
        "    // Host variables\n",
        "    int *h_histogram;\n",
        "    h_histogram = (int*) malloc(hist_bytes);\n",
        "    cudaMemcpy(h_histogram, d_histogram, hist_bytes, cudaMemcpyDeviceToHost);\n",
        "\n",
        "    return 0;\n",
        "}"
      ],
      "execution_count": null,
      "outputs": [
        {
          "output_type": "stream",
          "text": [
            "blocks1\n",
            "it:10\t\tsplit_wload:1\t\ttime:0.027712\n",
            "it:100\t\tsplit_wload:1\t\ttime:0.011072\n",
            "it:1000\t\tsplit_wload:8\t\ttime:0.036864\n",
            "it:10000\t\tsplit_wload:79\t\ttime:0.317984\n",
            "it:100000\t\tsplit_wload:782\t\ttime:3.038976\n",
            "it:1000000\t\tsplit_wload:7813\t\ttime:30.254240\n",
            "it:10000000\t\tsplit_wload:78126\t\ttime:291.692078\n",
            "it:100000000\t\tsplit_wload:781251\t\ttime:2712.581787\n",
            "it:1000000000\t\tsplit_wload:7812501\t\ttime:27118.742188\n",
            "it:10000000000\t\tsplit_wload:78125001\t\ttime:271189.093750\n",
            "\n"
          ],
          "name": "stdout"
        }
      ]
    },
    {
      "cell_type": "markdown",
      "metadata": {
        "id": "ZG_MrsCcaIOu"
      },
      "source": [
        "### GPU Sate Array  and Shared Memory\n",
        "\n",
        "Implementação semelhante ao *baseline*, com a adição de:\n",
        "\n",
        "- Memória compartilhada para manipulação dos estados e histograma pelas *threads*\n",
        "\n",
        "- Utilização reduzida da *global memory*"
      ]
    },
    {
      "cell_type": "code",
      "metadata": {
        "colab": {
          "base_uri": "https://localhost:8080/"
        },
        "id": "z9QcTTp9aG7I",
        "outputId": "38931c87-8464-4424-8f30-46c6bdedfe3d"
      },
      "source": [
        "%%gpu\n",
        "#include <string.h>\n",
        "#include <stdbool.h>\n",
        "#include <stdio.h>\n",
        "\n",
        "\n",
        "#include \"profiler.h\"\n",
        "\n",
        "#define THREADS 128 \n",
        "#define BLOCKS 1\n",
        "#define N 10\n",
        "\n",
        "__global__\n",
        "void simulate(int iterations, bool *state, bool *next_state, int *histogram) {\n",
        "\n",
        "    int tId = threadIdx.x + blockDim.x*blockIdx.x;\n",
        "    if(tId >= N) return;\n",
        "    \n",
        "    __shared__ bool shared_state[THREADS*BLOCKS*(N+1)]; // +1 for padding\n",
        "    __shared__ bool temp_state[THREADS*BLOCKS*(N+1)];\n",
        "    __shared__ bool shared_hist[THREADS*BLOCKS*(N+1)];\n",
        "\n",
        "    int offset = tId*(N+1);\n",
        "    \n",
        "    // Constants\n",
        "    state[offset+9] = true;\n",
        "    shared_state[offset+9] = true;\n",
        "\n",
        "    #pragma unroll\n",
        "    for(int i=0; i<iterations; i++) {\n",
        "\n",
        "        temp_state[offset+0] =  ! shared_state[offset+3] & shared_state[offset+1] |  ! shared_state[offset+3] & shared_state[offset+0] | shared_state[offset+1] & shared_state[offset+0];\n",
        "        temp_state[offset+1] =  ! shared_state[offset+7] &  ! shared_state[offset+6] &  ! shared_state[offset+4];\n",
        "        temp_state[offset+2] =  ! shared_state[offset+8] &  ! shared_state[offset+7] &  ! shared_state[offset+6] &  ! shared_state[offset+4] & shared_state[offset+0];\n",
        "        temp_state[offset+3] = shared_state[offset+6];\n",
        "        temp_state[offset+4] =  ! shared_state[offset+5] & shared_state[offset+4] & shared_state[offset+3] &  ! shared_state[offset+2] |  ! shared_state[offset+5] & shared_state[offset+4] & shared_state[offset+3] &  ! shared_state[offset+1] |  ! shared_state[offset+5] & shared_state[offset+4] &  ! shared_state[offset+2] &  ! shared_state[offset+1] |  ! shared_state[offset+5] & shared_state[offset+3] &  ! shared_state[offset+2] &  ! shared_state[offset+1] | shared_state[offset+4] & shared_state[offset+3] &  ! shared_state[offset+2] &  ! shared_state[offset+1];\n",
        "        temp_state[offset+5] =  shared_state[offset+9];\n",
        "        temp_state[offset+6] = shared_state[offset+2];\n",
        "        temp_state[offset+7] = shared_state[offset+7] &  ! shared_state[offset+5] & shared_state[offset+3] &  ! shared_state[offset+2] | shared_state[offset+7] &  ! shared_state[offset+5] & shared_state[offset+3] &  ! shared_state[offset+1] | shared_state[offset+7] &  ! shared_state[offset+5] &  ! shared_state[offset+2] &  ! shared_state[offset+1] | shared_state[offset+7] & shared_state[offset+3] &  ! shared_state[offset+2] &  ! shared_state[offset+1] |  ! shared_state[offset+5] & shared_state[offset+3] &  ! shared_state[offset+2] &  ! shared_state[offset+1];\n",
        "        temp_state[offset+8] = shared_state[offset+8] & state[offset+3] | state[offset+8] &  ! state[offset+1] | state[offset+3] &  ! state[offset+1];\n",
        "        temp_state[offset+9] = shared_state[offset+9]; \n",
        "\n",
        "        #pragma unroll\n",
        "        for(int j=0; j<N; j++) \n",
        "            shared_state[offset+j] = temp_state[offset+j];\n",
        "        \n",
        "        #pragma unroll\n",
        "        for(int j=0; j<N; j++)\n",
        "            shared_hist[offset+j] += shared_state[offset+j];\n",
        "\n",
        "    }\n",
        "    \n",
        "    #pragma unroll\n",
        "    for(int j=0; j<N; j++) \n",
        "        state[offset+j] = shared_state[offset+j];\n",
        "    \n",
        "    #pragma unroll\n",
        "    for(int j=0; j<N; j++)\n",
        "        histogram[offset+j] += shared_hist[offset+j];\n",
        "\n",
        "\n",
        "}\n",
        "\n",
        "int main() {\n",
        "\t\n",
        "    // Kernel variables\n",
        "    int threads = THREADS;\n",
        "    int blocks = (N+threads-1)/threads;\n",
        "\n",
        "    size_t n_bytes = sizeof(bool) * N * threads;\n",
        "    size_t hist_bytes = sizeof(int) * N * threads;\n",
        "   \n",
        "    bool *d_state, *d_next_state;\n",
        "    int *d_histogram;\n",
        "    cudaMalloc((void**) &d_state, n_bytes);\n",
        "    cudaMalloc((void**) &d_next_state, n_bytes);\n",
        "    cudaMalloc((void**) &d_histogram, hist_bytes);\n",
        "    printf(\"blocks%d\\n\", blocks);\n",
        "    float elapsed_time[MAX_POWER10];\n",
        "    unsigned long long iterations = 10;\n",
        "    for(int t=0; t<MAX_POWER10; t++) {\n",
        "        cudaMemset(d_state, 0, n_bytes);\n",
        "        cudaMemset(d_histogram, 0, hist_bytes);\n",
        "\n",
        "        GPU_Stopwatch s;\n",
        "        int split_workload = iterations / (blocks*threads) + 1;\n",
        "        simulate <<< blocks, threads >>> (split_workload, d_state, d_next_state, d_histogram);\n",
        "        elapsed_time[t] = s.stop();\n",
        "        printf(\"it:%llu\\t\\tsplit_wload:%d\\t\\ttime:%f\\n\", iterations, split_workload, elapsed_time[t]);\n",
        "\n",
        "        iterations *= 10;\n",
        "    }\n",
        "\n",
        "    cudaDeviceSynchronize();\n",
        "    write_csv(\"GPU_state.csv\", elapsed_time, MAX_POWER10);\n",
        "\n",
        "    // Host variables\n",
        "    int *h_histogram;\n",
        "    h_histogram = (int*) malloc(hist_bytes);\n",
        "    cudaMemcpy(h_histogram, d_histogram, hist_bytes, cudaMemcpyDeviceToHost);\n",
        "\n",
        "    return 0;\n",
        "}"
      ],
      "execution_count": null,
      "outputs": [
        {
          "output_type": "stream",
          "text": [
            "blocks1\n",
            "it:10\t\tsplit_wload:1\t\ttime:0.020736\n",
            "it:100\t\tsplit_wload:1\t\ttime:0.013248\n",
            "it:1000\t\tsplit_wload:8\t\ttime:0.007648\n",
            "it:10000\t\tsplit_wload:79\t\ttime:0.024576\n",
            "it:100000\t\tsplit_wload:782\t\ttime:0.134304\n",
            "it:1000000\t\tsplit_wload:7813\t\ttime:1.229952\n",
            "it:10000000\t\tsplit_wload:78126\t\ttime:12.240096\n",
            "it:100000000\t\tsplit_wload:781251\t\ttime:122.330788\n",
            "it:1000000000\t\tsplit_wload:7812501\t\ttime:1223.247437\n",
            "it:10000000000\t\tsplit_wload:78125001\t\ttime:12232.322266\n",
            "\n"
          ],
          "name": "stdout"
        }
      ]
    },
    {
      "cell_type": "markdown",
      "metadata": {
        "id": "DYUmlHfJEuQe"
      },
      "source": [
        "### GPU Function Pointers, Shared Memory and Registers\n",
        "\n",
        "Nesta estratégia, foi utilizado:\n",
        "\n",
        "- Conversão de equações booleanas em funções;\n",
        "\n",
        "- Ponteiro de funções;\n",
        "\n",
        "- Memória compartilhada para manipulação dos estados da rede;\n",
        "\n",
        "- Controle de concorrência com função de escrita `atomicAdd(...)`"
      ]
    },
    {
      "cell_type": "code",
      "metadata": {
        "id": "MSXX41Z9J7hW"
      },
      "source": [
        "%%writefile network.h\n",
        "\n",
        "#ifndef NETWORK_H\n",
        "#define NETWORK_H\n",
        "\n",
        "#define N 10\n",
        "typedef bool (*cuda_func)(bool *);\n",
        "\n",
        "// ---------- BOOLEAN NETWORK FUNCTIONS ---------- //\n",
        "__device__ bool Cdc25(bool *network_state){ return  !network_state[3] && network_state[1] ||  !network_state[3] && network_state[0] || network_state[1] && network_state[0]; }\n",
        "__device__ bool Cdc2_Cdc13(bool *network_state){ return  !network_state[7] &&  !network_state[6] &&  !network_state[4]; }\n",
        "__device__ bool Cdc2_Cdc13_A(bool *network_state){ return  !network_state[8] &&  !network_state[7] &&  !network_state[6] &&  !network_state[4] && network_state[0]; }\n",
        "__device__ bool PP(bool *network_state){ return network_state[6]; }\n",
        "__device__ bool Rum1(bool *network_state){ return  !network_state[5] && network_state[4] && network_state[3] &&  !network_state[2] ||  !network_state[5] && network_state[4] && network_state[3] &&  !network_state[1] ||  !network_state[5] && network_state[4] &&  !network_state[2] &&  !network_state[1] ||  !network_state[5] && network_state[3] &&  !network_state[2] &&  !network_state[1] || network_state[4] && network_state[3] &&  !network_state[2] &&  !network_state[1]; }\n",
        "__device__ bool SK(bool *network_state){ return network_state[9]; }\n",
        "__device__ bool Slp1(bool *network_state){ return network_state[2]; }\n",
        "__device__ bool Ste9(bool *network_state){ return network_state[7] &&  !network_state[5] && network_state[3] &&  !network_state[2] || network_state[7] &&  !network_state[5] && network_state[3] &&  !network_state[1] || network_state[7] &&  !network_state[5] &&  !network_state[2] &&  !network_state[1] || network_state[7] && network_state[3] &&  !network_state[2] &&  !network_state[1] ||  !network_state[5] && network_state[3] &&  !network_state[2] &&  !network_state[1]; }\n",
        "__device__ bool Wee1_Mik1(bool *network_state){ return network_state[8] && network_state[3] || network_state[8] &&  !network_state[1] || network_state[3] &&  !network_state[1]; }\n",
        "__device__ bool Start(bool *network_state){ return true; }\n",
        "\n",
        "__device__ cuda_func f1 = Cdc25;\n",
        "__device__ cuda_func f2 = Cdc2_Cdc13;\n",
        "__device__ cuda_func f3 = Cdc2_Cdc13_A;\n",
        "__device__ cuda_func f4 = PP;\n",
        "__device__ cuda_func f5 = Rum1;\n",
        "__device__ cuda_func f6 = SK;\n",
        "__device__ cuda_func f7 = Slp1;\n",
        "__device__ cuda_func f8 = Ste9;\n",
        "__device__ cuda_func f9 = Wee1_Mik1;\n",
        "__device__ cuda_func f10 = Start;\n",
        "\n",
        "char names[N][26] = {\"Cdc25\",\"Cdc2_Cdc13\",\"Cdc2_Cdc13_A\",\"PP\",\"Rum1\",\"SK\",\"Slp1\",\"Ste9\",\"Wee1_Mik1\",\"Start\"};\n",
        "\n",
        "#endif"
      ],
      "execution_count": null,
      "outputs": []
    },
    {
      "cell_type": "code",
      "metadata": {
        "colab": {
          "base_uri": "https://localhost:8080/"
        },
        "id": "O4HvISITcE6j",
        "outputId": "f38dc8fe-b1cc-496b-ac30-d10be3a4579f"
      },
      "source": [
        "%%gpu\n",
        "\n",
        "#include <string.h>\n",
        "#include <stdbool.h>\n",
        "#include <stdio.h>\n",
        "\n",
        "#include \"network.h\"\n",
        "#include \"profiler.h\"\n",
        "\n",
        "\n",
        "#define THREADS 32\n",
        "#define BLOCKS 128\n",
        "\n",
        "__global__ void simulate(int iterations, cuda_func* f, bool *network_state, bool *next_state, int *histogram) {\n",
        "\n",
        "    int tId = blockDim.x*blockIdx.x + threadIdx.x;\n",
        "    __shared__ bool shared_state[THREADS*BLOCKS*(N+1)];\n",
        "\n",
        "    int offset = tId*(N+1); \n",
        "\n",
        "    for(int i=0; i<iterations; i++) {\n",
        "\n",
        "        bool state = f[0](shared_state);\n",
        "        bool state1 = f[1](shared_state);\n",
        "        bool state2 = f[2](shared_state);\n",
        "        bool state3 = f[3](shared_state);\n",
        "        bool state4 = f[4](shared_state);\n",
        "        bool state5 = f[5](shared_state);\n",
        "        bool state6 = f[6](shared_state);\n",
        "        bool state7 = f[7](shared_state);\n",
        "        bool state8 = f[8](shared_state);\n",
        "        bool state9 = f[9](shared_state);\n",
        "    \n",
        "        shared_state[offset+0] = state;\n",
        "        shared_state[offset+1] = state1;\n",
        "        shared_state[offset+2] = state2;\n",
        "        shared_state[offset+3] = state3;\n",
        "        shared_state[offset+4] = state4;\n",
        "        shared_state[offset+5] = state5;\n",
        "        shared_state[offset+6] = state6;\n",
        "        shared_state[offset+7] = state7;\n",
        "        shared_state[offset+8] = state8;\n",
        "        shared_state[offset+9] = state9;\n",
        "        \n",
        "        atomicAdd(&histogram[0], state);\n",
        "        atomicAdd(&histogram[1], state1);\n",
        "        atomicAdd(&histogram[2], state2);\n",
        "        atomicAdd(&histogram[3], state3);\n",
        "        atomicAdd(&histogram[4], state5);\n",
        "        atomicAdd(&histogram[5], state5);\n",
        "        atomicAdd(&histogram[6], state6);\n",
        "        atomicAdd(&histogram[7], state7);\n",
        "        atomicAdd(&histogram[8], state8);\n",
        "        atomicAdd(&histogram[9], state9);\n",
        "    }\n",
        "}\n",
        "\n",
        "__global__\n",
        "void initializeNodes(bool *network_state){\n",
        "    network_state[9] = true;\n",
        "}\n",
        "\n",
        "int main() {\n",
        "\n",
        "    size_t n_bytes = sizeof(bool) * N;\n",
        "    \n",
        "    // Initializing array from network header file\n",
        "    bool *network_state;\n",
        "    cudaMalloc((void **) &network_state, n_bytes);\n",
        "\n",
        "    // Auxiliary arrays\n",
        "    bool *next_state;\n",
        "    cudaMalloc((void **) &next_state, n_bytes);\n",
        "    \n",
        "    int *histogram;\n",
        "    size_t hist_bytes = sizeof(int)*N;\n",
        "    cudaMalloc((void**) &histogram, hist_bytes);\n",
        "    cudaMemset(histogram, 0, hist_bytes);\n",
        "\n",
        "    // Function pointer arrays\n",
        "    cuda_func *h_f;\n",
        "    cuda_func *d_f;\n",
        "    size_t func_bytes = N * sizeof(cuda_func);\n",
        "    h_f = (cuda_func*) malloc(func_bytes);\n",
        "    cudaMalloc((void**) &d_f, func_bytes);\n",
        "\n",
        "    cudaMemcpyFromSymbol( &h_f[0], f1, sizeof(cuda_func) );\n",
        "    cudaMemcpyFromSymbol( &h_f[1], f2, sizeof(cuda_func) );\n",
        "    cudaMemcpyFromSymbol( &h_f[2], f3, sizeof(cuda_func) );\n",
        "    cudaMemcpyFromSymbol( &h_f[3], f4, sizeof(cuda_func) );\n",
        "    cudaMemcpyFromSymbol( &h_f[4], f5, sizeof(cuda_func) );\n",
        "    cudaMemcpyFromSymbol( &h_f[5], f6, sizeof(cuda_func) );\n",
        "    cudaMemcpyFromSymbol( &h_f[6], f7, sizeof(cuda_func) );\n",
        "    cudaMemcpyFromSymbol( &h_f[7], f8, sizeof(cuda_func) );\n",
        "    cudaMemcpyFromSymbol( &h_f[8], f9, sizeof(cuda_func) );\n",
        "    cudaMemcpyFromSymbol( &h_f[9], f10, sizeof(cuda_func) );\n",
        "\n",
        "    cudaMemcpy(d_f, h_f, func_bytes, cudaMemcpyHostToDevice);\n",
        "\n",
        "    initializeNodes<<<1,1>>>(network_state);\n",
        "    \n",
        "    // ---------- SIMULATION ---------- //\n",
        "    float elapsed_time[MAX_POWER10];\n",
        "    unsigned long long iterations = 10;\n",
        "    for(int t=0; t<MAX_POWER10; t++){\n",
        "        \n",
        "        int threads = 128;\n",
        "        int blocks = (N+iterations+threads-1)/threads;\n",
        "        \n",
        "        cudaMemset(network_state, 0, n_bytes);\n",
        "        cudaMemset(histogram, 0, hist_bytes);\n",
        "        \n",
        "        GPU_Stopwatch s;\n",
        "        int split_workload = iterations / (BLOCKS*THREADS) + 1;\n",
        "        simulate<<< BLOCKS, THREADS >>>(split_workload, d_f, network_state, next_state, histogram);\n",
        "        cudaMemcpy(network_state, next_state, n_bytes, cudaMemcpyDeviceToDevice);\n",
        "        \n",
        "        elapsed_time[t] = s.stop();\n",
        "        printf(\"it:%llu\\tblocks:%d\\ttime:%f\\n\", iterations, blocks, elapsed_time[t]);\n",
        "\n",
        "       \n",
        "        iterations *= 10;\n",
        "    }\n",
        "    cudaDeviceSynchronize();\n",
        "    write_csv(\"GPU_func.csv\", elapsed_time, MAX_POWER10);\n",
        "    cudaCheckError();\n",
        "    \n",
        "    int *h_histogram;\n",
        "    h_histogram = (int*) malloc(hist_bytes);\n",
        "    cudaMemcpy(h_histogram, histogram, hist_bytes, cudaMemcpyDeviceToHost);\n",
        "\n",
        "    //print_histogram(h_histogram, N);\n",
        "}"
      ],
      "execution_count": null,
      "outputs": [
        {
          "output_type": "stream",
          "text": [
            "it:10\tblocks:1\ttime:0.031232\n",
            "it:100\tblocks:1\ttime:0.026464\n",
            "it:1000\tblocks:8\ttime:0.027488\n",
            "it:10000\tblocks:79\ttime:0.063648\n",
            "it:100000\tblocks:782\ttime:0.467040\n",
            "it:1000000\tblocks:7813\ttime:4.454944\n",
            "it:10000000\tblocks:78126\ttime:44.532543\n",
            "it:100000000\tblocks:781251\ttime:443.096924\n",
            "it:1000000000\tblocks:7812501\ttime:4450.744629\n",
            "it:10000000000\tblocks:78125001\ttime:44359.738281\n",
            "\n"
          ],
          "name": "stdout"
        }
      ]
    },
    {
      "cell_type": "markdown",
      "metadata": {
        "id": "XT1ip30Io7xu"
      },
      "source": [
        " # Analysing"
      ]
    },
    {
      "cell_type": "code",
      "metadata": {
        "id": "NbA8ihEppei9"
      },
      "source": [
        "# Fetching data from GPU and CPU benchmarks\n",
        "cpu = []\n",
        "gpu_naive= []\n",
        "gpu_state= []\n",
        "gpu_func = []\n",
        "\n",
        "i = 0\n",
        "with open(\"CPU.csv\", \"r\") as file:\n",
        "  for value in file.readline().split(\",\"):\n",
        "    if i<4:\n",
        "        i += 1\n",
        "        continue  \n",
        "    cpu.append(float(value)/1000)\n",
        "\n",
        "i = 0\n",
        "with open(\"GPU_naive.csv\", \"r\") as file:\n",
        "  for value in file.readline().split(\",\"):\n",
        "    if i<4:\n",
        "        i += 1\n",
        "        continue  \n",
        "    gpu_naive.append(float(value)/1000)\n",
        "\n",
        "i = 0\n",
        "with open(\"GPU_state.csv\", \"r\") as file:\n",
        "  for value in file.readline().split(\",\"):\n",
        "    if i<4:\n",
        "        i += 1\n",
        "        continue  \n",
        "    gpu_state.append(float(value)/1000)\n",
        "\n",
        "i = 0\n",
        "with open(\"GPU_func.csv\", \"r\") as file:\n",
        "  for value in file.readline().split(\",\"):\n",
        "    if i<4:\n",
        "        i += 1\n",
        "        continue  \n",
        "    gpu_func.append(float(value)/1000)\n",
        "\n"
      ],
      "execution_count": null,
      "outputs": []
    },
    {
      "cell_type": "markdown",
      "metadata": {
        "id": "96YruK-dPyXz"
      },
      "source": [
        "## Resultados\n",
        "No gráfico abaixo, podemos notar que a estratégia que utilizou array de estados pré-compilado em conjunto com memória compartilhada foi a que obteve melhor desempenho, seguida dos ponteiros de função, da implementação *naive* em GPU e da implementação da simulação em CPU."
      ]
    },
    {
      "cell_type": "code",
      "metadata": {
        "colab": {
          "base_uri": "https://localhost:8080/",
          "height": 531
        },
        "id": "pt605jEHpx8d",
        "outputId": "10307101-8452-4d0f-cc45-c63ac6d51d24"
      },
      "source": [
        "import matplotlib.pyplot as plt\n",
        "\n",
        "# Number of elements utilized\n",
        "labels = [\"1E5\", \"1E6\", \"1E7\", \"1E8\", \"1E9\", \"1E10\"]\n",
        "\n",
        "# Graph plotting settings\n",
        "plt.figure(figsize=(16,8))\n",
        "\n",
        "plt.plot(labels, cpu, 'go-', linewidth=2, label=\"CPU\")\n",
        "plt.plot(gpu_naive, 'bo-', linewidth=2, label=\"GPU Naive\")\n",
        "plt.plot(gpu_func, 'ro-', linewidth=2, label=\"GPU Function Pointers\")\n",
        "plt.plot(gpu_state, 'mo-', linewidth=2, label=\"GPU State Array\")\n",
        "\n",
        "plt.xlabel(\"Número de Elementos em potência de 10\")\n",
        "plt.ylabel(\"Runtime em Segundos\")\n",
        "plt.title(\"CPU vs. GPU Gene Simulation Runtime\")\n",
        "plt.legend(loc=\"upper left\")"
      ],
      "execution_count": null,
      "outputs": [
        {
          "output_type": "execute_result",
          "data": {
            "text/plain": [
              "<matplotlib.legend.Legend at 0x7f731f1fbcf8>"
            ]
          },
          "metadata": {
            "tags": []
          },
          "execution_count": 69
        },
        {
          "output_type": "display_data",
          "data": {
            "image/png": "[encoded data removed]",
            "text/plain": [
              "<Figure size 1152x576 with 1 Axes>"
            ]
          },
          "metadata": {
            "tags": [],
            "needs_background": "light"
          }
        }
      ]
    },
    {
      "cell_type": "markdown",
      "metadata": {
        "id": "yMEfScu2RDBA"
      },
      "source": [
        "Abaixo segue a tabela de *speedup* aproximado do código comparado à CPU\n",
        "\n",
        "GPU Strategy | Speedup\n",
        "-------------|---------\n",
        "Naive        |     2x\n",
        "Function Pointers| 12x\n",
        "State Array  |     45x\n",
        "\n",
        "\n",
        "Observando a tabela acima, mesmo ao considerar a estratégia mais simples, fica clara a contribuição da utilização de GPUs para a Simulação de Redes Booleanas. Ainda que o resultado seja satisfatório, outras otimizações como a representação da rede em bits, *profiling* usando *nsight* e refatoração de código podem ser realizadas na presente implementação com intuito de alcançar ainda mais performance. Por fim, para trabalhos futuros é necessário tornar a geração de código pré-compilado simples e automática, de modo que esta ferramenta possa ser utilizada por pesquisadores da área sem necessidade de conhecimentos específicos."
      ]
    }
  ]
}